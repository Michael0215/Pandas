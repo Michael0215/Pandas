{
 "cells": [
  {
   "cell_type": "code",
   "execution_count": 1,
   "outputs": [],
   "source": [
    "import json\n",
    "import matplotlib.pyplot as plt\n",
    "import pandas as pd\n",
    "import sys\n",
    "import os\n",
    "import numpy as np\n",
    "import math\n",
    "import re"
   ],
   "metadata": {
    "collapsed": false,
    "pycharm": {
     "name": "#%%\n"
    }
   }
  },
  {
   "cell_type": "code",
   "execution_count": 301,
   "outputs": [
    {
     "data": {
      "text/plain": "                        start                      end\n0                 Strathfield                   Epping\n1                      Epping              Strathfield\n2                 Strathfield                  Hornsby\n3                     Hornsby              Strathfield\n4                  East Hills              Wolli Creek\n...                       ...                      ...\n9555        Juniors Kingsford            Circular Quay\n9556  Central Chalmers Street               Moore Park\n9557               Moore Park  Central Chalmers Street\n9558    Newcastle Interchange          Newcastle Beach\n9559          Newcastle Beach    Newcastle Interchange\n\n[9560 rows x 2 columns]",
      "text/html": "<div>\n<style scoped>\n    .dataframe tbody tr th:only-of-type {\n        vertical-align: middle;\n    }\n\n    .dataframe tbody tr th {\n        vertical-align: top;\n    }\n\n    .dataframe thead th {\n        text-align: right;\n    }\n</style>\n<table border=\"1\" class=\"dataframe\">\n  <thead>\n    <tr style=\"text-align: right;\">\n      <th></th>\n      <th>start</th>\n      <th>end</th>\n    </tr>\n  </thead>\n  <tbody>\n    <tr>\n      <th>0</th>\n      <td>Strathfield</td>\n      <td>Epping</td>\n    </tr>\n    <tr>\n      <th>1</th>\n      <td>Epping</td>\n      <td>Strathfield</td>\n    </tr>\n    <tr>\n      <th>2</th>\n      <td>Strathfield</td>\n      <td>Hornsby</td>\n    </tr>\n    <tr>\n      <th>3</th>\n      <td>Hornsby</td>\n      <td>Strathfield</td>\n    </tr>\n    <tr>\n      <th>4</th>\n      <td>East Hills</td>\n      <td>Wolli Creek</td>\n    </tr>\n    <tr>\n      <th>...</th>\n      <td>...</td>\n      <td>...</td>\n    </tr>\n    <tr>\n      <th>9555</th>\n      <td>Juniors Kingsford</td>\n      <td>Circular Quay</td>\n    </tr>\n    <tr>\n      <th>9556</th>\n      <td>Central Chalmers Street</td>\n      <td>Moore Park</td>\n    </tr>\n    <tr>\n      <th>9557</th>\n      <td>Moore Park</td>\n      <td>Central Chalmers Street</td>\n    </tr>\n    <tr>\n      <th>9558</th>\n      <td>Newcastle Interchange</td>\n      <td>Newcastle Beach</td>\n    </tr>\n    <tr>\n      <th>9559</th>\n      <td>Newcastle Beach</td>\n      <td>Newcastle Interchange</td>\n    </tr>\n  </tbody>\n</table>\n<p>9560 rows × 2 columns</p>\n</div>"
     },
     "execution_count": 301,
     "metadata": {},
     "output_type": "execute_result"
    }
   ],
   "source": [
    "routesDF = pd.read_csv('routes.csv')\n",
    "\n",
    "df1 = routesDF.copy(True)\n",
    "start = df1['service_direction_name'].str.extract('(^[A-Z\\d]+[a-z\\d]*(\\s+[A-Z\\d]+[a-z\\d]*)*)(?:,|to)?')[0]\n",
    "end = df1['service_direction_name'].str.extract('(?:then |to |and |or |,+\\s+and |, | - | –+\\s)+([A-Z\\d]+[a-z\\d]*(\\s+[A-Z\\d]+[a-z\\d]*)*)(?:via.*|\\([a-zA-Z]*\\)+\\s)?$')[0]\n",
    "\n",
    "\n",
    "df1['start'] = start\n",
    "df1['end'] = end.combine_first(start)\n",
    "df1[['start','end']]\n",
    "# end.isnull().sum()\n"
   ],
   "metadata": {
    "collapsed": false,
    "pycharm": {
     "name": "#%%\n"
    }
   }
  },
  {
   "cell_type": "code",
   "execution_count": 271,
   "outputs": [
    {
     "data": {
      "text/plain": "        sevice_location  frequence\n0                    St        112\n1     Tuggerah Lakes SC         51\n2               Central         31\n3               Unknown         28\n4  Campbelltown Station         27",
      "text/html": "<div>\n<style scoped>\n    .dataframe tbody tr th:only-of-type {\n        vertical-align: middle;\n    }\n\n    .dataframe tbody tr th {\n        vertical-align: top;\n    }\n\n    .dataframe thead th {\n        text-align: right;\n    }\n</style>\n<table border=\"1\" class=\"dataframe\">\n  <thead>\n    <tr style=\"text-align: right;\">\n      <th></th>\n      <th>sevice_location</th>\n      <th>frequence</th>\n    </tr>\n  </thead>\n  <tbody>\n    <tr>\n      <th>0</th>\n      <td>St</td>\n      <td>112</td>\n    </tr>\n    <tr>\n      <th>1</th>\n      <td>Tuggerah Lakes SC</td>\n      <td>51</td>\n    </tr>\n    <tr>\n      <th>2</th>\n      <td>Central</td>\n      <td>31</td>\n    </tr>\n    <tr>\n      <th>3</th>\n      <td>Unknown</td>\n      <td>28</td>\n    </tr>\n    <tr>\n      <th>4</th>\n      <td>Campbelltown Station</td>\n      <td>27</td>\n    </tr>\n  </tbody>\n</table>\n</div>"
     },
     "execution_count": 271,
     "metadata": {},
     "output_type": "execute_result"
    }
   ],
   "source": [
    "merge = pd.concat([df1['start'], df1['end']]).value_counts()[0:5]\n",
    "merge = merge.to_frame().rename_axis().reset_index()\n",
    "merge = merge.rename(columns={'index':'sevice_location', 0:'frequence'})\n",
    "merge\n"
   ],
   "metadata": {
    "collapsed": false,
    "pycharm": {
     "name": "#%%\n"
    }
   }
  },
  {
   "cell_type": "markdown",
   "source": [],
   "metadata": {
    "collapsed": false,
    "pycharm": {
     "name": "#%% md\n"
    }
   }
  },
  {
   "cell_type": "markdown",
   "source": [],
   "metadata": {
    "collapsed": false,
    "pycharm": {
     "name": "#%% md\n"
    }
   }
  },
  {
   "cell_type": "code",
   "execution_count": 422,
   "outputs": [
    {
     "data": {
      "text/plain": "              index\n0             Other\n1               Bus\n2             Coach\n3  Commuter railway\n4             Ferry\n5              Tram\n6            Subway",
      "text/html": "<div>\n<style scoped>\n    .dataframe tbody tr th:only-of-type {\n        vertical-align: middle;\n    }\n\n    .dataframe tbody tr th {\n        vertical-align: top;\n    }\n\n    .dataframe thead th {\n        text-align: right;\n    }\n</style>\n<table border=\"1\" class=\"dataframe\">\n  <thead>\n    <tr style=\"text-align: right;\">\n      <th></th>\n      <th>index</th>\n    </tr>\n  </thead>\n  <tbody>\n    <tr>\n      <th>0</th>\n      <td>Other</td>\n    </tr>\n    <tr>\n      <th>1</th>\n      <td>Bus</td>\n    </tr>\n    <tr>\n      <th>2</th>\n      <td>Coach</td>\n    </tr>\n    <tr>\n      <th>3</th>\n      <td>Commuter railway</td>\n    </tr>\n    <tr>\n      <th>4</th>\n      <td>Ferry</td>\n    </tr>\n    <tr>\n      <th>5</th>\n      <td>Tram</td>\n    </tr>\n    <tr>\n      <th>6</th>\n      <td>Subway</td>\n    </tr>\n  </tbody>\n</table>\n</div>"
     },
     "execution_count": 422,
     "metadata": {},
     "output_type": "execute_result"
    }
   ],
   "source": [
    "mot = df1['mot_for_interchange'].value_counts()\n",
    "mot = mot.to_frame().rename_axis().reset_index()\n",
    "mot = mot['index'].to_frame()\n",
    "mot"
   ],
   "metadata": {
    "collapsed": false,
    "pycharm": {
     "name": "#%%\n"
    }
   }
  },
  {
   "cell_type": "code",
   "execution_count": 272,
   "outputs": [
    {
     "data": {
      "text/plain": "                        operator_name operator_id contract_id  \\\n0     train replacement bus operators         700         NaN   \n1     train replacement bus operators         700         NaN   \n2     train replacement bus operators         700         NaN   \n3     train replacement bus operators         700         NaN   \n4     train replacement bus operators         700         NaN   \n...                               ...         ...         ...   \n9555                Sydney Light Rail         SLR         NaN   \n9556                Sydney Light Rail         SLR         NaN   \n9557                Sydney Light Rail         SLR         NaN   \n9558              Newcastle Transport          NT         NaN   \n9559              Newcastle Transport          NT         NaN   \n\n     my_timetable_route_name route_variant_type  transport_name_id  \\\n0                       1AT9          Temporary                 14   \n1                       1AT9          Temporary                 14   \n2                        1T9          Temporary                 14   \n3                        1T9          Temporary                 14   \n4                       26T8          Temporary                 14   \n...                      ...                ...                ...   \n9555                      L3                NaN                 13   \n9556                      LX                NaN                 13   \n9557                      LX                NaN                 13   \n9558                     NLR                NaN                 21   \n9559                     NLR                NaN                 21   \n\n                    transport_name  mot_for_interchange_id  \\\n0                  Temporary buses                       5   \n1                  Temporary buses                       5   \n2                  Temporary buses                       5   \n3                  Temporary buses                       5   \n4                  Temporary buses                       5   \n...                            ...                     ...   \n9555     Sydney Light Rail Network                       4   \n9556     Sydney Light Rail Network                       4   \n9557     Sydney Light Rail Network                       4   \n9558  Newcastle Light Rail Network                       4   \n9559  Newcastle Light Rail Network                       4   \n\n     mot_for_interchange             efa_route_name  ... start_date  \\\n0                    Bus                       1AT9  ...        NaN   \n1                    Bus                       1AT9  ...        NaN   \n2                    Bus                        1T9  ...        NaN   \n3                    Bus                        1T9  ...        NaN   \n4                    Bus                       26T8  ...        NaN   \n...                  ...                        ...  ...        ...   \n9555                Tram          L3 Kingsford Line  ...        NaN   \n9556                Tram  LX Special Event Services  ...        NaN   \n9557                Tram  LX Special Event Services  ...        NaN   \n9558                Tram                        NLR  ...        NaN   \n9559                Tram                        NLR  ...        NaN   \n\n     route_type frequency_route gtfs_agency_id  gtfs_route_id_in  \\\n0           714               0            700          700_1AT9   \n1           714               0            700          700_1AT9   \n2           714               0            700           700_1T9   \n3           714               0            700           700_1T9   \n4           714               0            700          700_26T8   \n...         ...             ...            ...               ...   \n9555        900               1            SLR           1001_L3   \n9556        900               1            SLR           1001_LX   \n9557        900               1            SLR           1001_LX   \n9558        900               1             NT            NT_NLR   \n9559        900               1             NT            NT_NLR   \n\n     gtfs_route_id_out gtfs_alerts_id gtfs_alerts_name  \\\n0             700_1AT9              7     sydneytrains   \n1             700_1AT9              7     sydneytrains   \n2              700_1T9              7     sydneytrains   \n3              700_1T9              7     sydneytrains   \n4             700_26T8              7     sydneytrains   \n...                ...            ...              ...   \n9555           1001_L3              3        lightrail   \n9556           1001_LX              3        lightrail   \n9557           1001_LX              3        lightrail   \n9558            NT_NLR              3        lightrail   \n9559            NT_NLR              3        lightrail   \n\n                                         start                      end  \n0                                  Strathfield                   Epping  \n1                                       Epping              Strathfield  \n2                                  Strathfield      Epping then Hornsby  \n3                                      Hornsby              Strathfield  \n4                                   East Hills              Wolli Creek  \n...                                        ...                      ...  \n9555        Juniors Kingsford to Circular Quay            Circular Quay  \n9556     Central Chalmers Street to Moore Park               Moore Park  \n9557     Moore Park to Central Chalmers Street  Central Chalmers Street  \n9558  Newcastle Interchange to Newcastle Beach          Newcastle Beach  \n9559  Newcastle Beach to Newcastle Interchange    Newcastle Interchange  \n\n[9560 rows x 34 columns]",
      "text/html": "<div>\n<style scoped>\n    .dataframe tbody tr th:only-of-type {\n        vertical-align: middle;\n    }\n\n    .dataframe tbody tr th {\n        vertical-align: top;\n    }\n\n    .dataframe thead th {\n        text-align: right;\n    }\n</style>\n<table border=\"1\" class=\"dataframe\">\n  <thead>\n    <tr style=\"text-align: right;\">\n      <th></th>\n      <th>operator_name</th>\n      <th>operator_id</th>\n      <th>contract_id</th>\n      <th>my_timetable_route_name</th>\n      <th>route_variant_type</th>\n      <th>transport_name_id</th>\n      <th>transport_name</th>\n      <th>mot_for_interchange_id</th>\n      <th>mot_for_interchange</th>\n      <th>efa_route_name</th>\n      <th>...</th>\n      <th>start_date</th>\n      <th>route_type</th>\n      <th>frequency_route</th>\n      <th>gtfs_agency_id</th>\n      <th>gtfs_route_id_in</th>\n      <th>gtfs_route_id_out</th>\n      <th>gtfs_alerts_id</th>\n      <th>gtfs_alerts_name</th>\n      <th>start</th>\n      <th>end</th>\n    </tr>\n  </thead>\n  <tbody>\n    <tr>\n      <th>0</th>\n      <td>train replacement bus operators</td>\n      <td>700</td>\n      <td>NaN</td>\n      <td>1AT9</td>\n      <td>Temporary</td>\n      <td>14</td>\n      <td>Temporary buses</td>\n      <td>5</td>\n      <td>Bus</td>\n      <td>1AT9</td>\n      <td>...</td>\n      <td>NaN</td>\n      <td>714</td>\n      <td>0</td>\n      <td>700</td>\n      <td>700_1AT9</td>\n      <td>700_1AT9</td>\n      <td>7</td>\n      <td>sydneytrains</td>\n      <td>Strathfield</td>\n      <td>Epping</td>\n    </tr>\n    <tr>\n      <th>1</th>\n      <td>train replacement bus operators</td>\n      <td>700</td>\n      <td>NaN</td>\n      <td>1AT9</td>\n      <td>Temporary</td>\n      <td>14</td>\n      <td>Temporary buses</td>\n      <td>5</td>\n      <td>Bus</td>\n      <td>1AT9</td>\n      <td>...</td>\n      <td>NaN</td>\n      <td>714</td>\n      <td>0</td>\n      <td>700</td>\n      <td>700_1AT9</td>\n      <td>700_1AT9</td>\n      <td>7</td>\n      <td>sydneytrains</td>\n      <td>Epping</td>\n      <td>Strathfield</td>\n    </tr>\n    <tr>\n      <th>2</th>\n      <td>train replacement bus operators</td>\n      <td>700</td>\n      <td>NaN</td>\n      <td>1T9</td>\n      <td>Temporary</td>\n      <td>14</td>\n      <td>Temporary buses</td>\n      <td>5</td>\n      <td>Bus</td>\n      <td>1T9</td>\n      <td>...</td>\n      <td>NaN</td>\n      <td>714</td>\n      <td>0</td>\n      <td>700</td>\n      <td>700_1T9</td>\n      <td>700_1T9</td>\n      <td>7</td>\n      <td>sydneytrains</td>\n      <td>Strathfield</td>\n      <td>Epping then Hornsby</td>\n    </tr>\n    <tr>\n      <th>3</th>\n      <td>train replacement bus operators</td>\n      <td>700</td>\n      <td>NaN</td>\n      <td>1T9</td>\n      <td>Temporary</td>\n      <td>14</td>\n      <td>Temporary buses</td>\n      <td>5</td>\n      <td>Bus</td>\n      <td>1T9</td>\n      <td>...</td>\n      <td>NaN</td>\n      <td>714</td>\n      <td>0</td>\n      <td>700</td>\n      <td>700_1T9</td>\n      <td>700_1T9</td>\n      <td>7</td>\n      <td>sydneytrains</td>\n      <td>Hornsby</td>\n      <td>Strathfield</td>\n    </tr>\n    <tr>\n      <th>4</th>\n      <td>train replacement bus operators</td>\n      <td>700</td>\n      <td>NaN</td>\n      <td>26T8</td>\n      <td>Temporary</td>\n      <td>14</td>\n      <td>Temporary buses</td>\n      <td>5</td>\n      <td>Bus</td>\n      <td>26T8</td>\n      <td>...</td>\n      <td>NaN</td>\n      <td>714</td>\n      <td>0</td>\n      <td>700</td>\n      <td>700_26T8</td>\n      <td>700_26T8</td>\n      <td>7</td>\n      <td>sydneytrains</td>\n      <td>East Hills</td>\n      <td>Wolli Creek</td>\n    </tr>\n    <tr>\n      <th>...</th>\n      <td>...</td>\n      <td>...</td>\n      <td>...</td>\n      <td>...</td>\n      <td>...</td>\n      <td>...</td>\n      <td>...</td>\n      <td>...</td>\n      <td>...</td>\n      <td>...</td>\n      <td>...</td>\n      <td>...</td>\n      <td>...</td>\n      <td>...</td>\n      <td>...</td>\n      <td>...</td>\n      <td>...</td>\n      <td>...</td>\n      <td>...</td>\n      <td>...</td>\n      <td>...</td>\n    </tr>\n    <tr>\n      <th>9555</th>\n      <td>Sydney Light Rail</td>\n      <td>SLR</td>\n      <td>NaN</td>\n      <td>L3</td>\n      <td>NaN</td>\n      <td>13</td>\n      <td>Sydney Light Rail Network</td>\n      <td>4</td>\n      <td>Tram</td>\n      <td>L3 Kingsford Line</td>\n      <td>...</td>\n      <td>NaN</td>\n      <td>900</td>\n      <td>1</td>\n      <td>SLR</td>\n      <td>1001_L3</td>\n      <td>1001_L3</td>\n      <td>3</td>\n      <td>lightrail</td>\n      <td>Juniors Kingsford to Circular Quay</td>\n      <td>Circular Quay</td>\n    </tr>\n    <tr>\n      <th>9556</th>\n      <td>Sydney Light Rail</td>\n      <td>SLR</td>\n      <td>NaN</td>\n      <td>LX</td>\n      <td>NaN</td>\n      <td>13</td>\n      <td>Sydney Light Rail Network</td>\n      <td>4</td>\n      <td>Tram</td>\n      <td>LX Special Event Services</td>\n      <td>...</td>\n      <td>NaN</td>\n      <td>900</td>\n      <td>1</td>\n      <td>SLR</td>\n      <td>1001_LX</td>\n      <td>1001_LX</td>\n      <td>3</td>\n      <td>lightrail</td>\n      <td>Central Chalmers Street to Moore Park</td>\n      <td>Moore Park</td>\n    </tr>\n    <tr>\n      <th>9557</th>\n      <td>Sydney Light Rail</td>\n      <td>SLR</td>\n      <td>NaN</td>\n      <td>LX</td>\n      <td>NaN</td>\n      <td>13</td>\n      <td>Sydney Light Rail Network</td>\n      <td>4</td>\n      <td>Tram</td>\n      <td>LX Special Event Services</td>\n      <td>...</td>\n      <td>NaN</td>\n      <td>900</td>\n      <td>1</td>\n      <td>SLR</td>\n      <td>1001_LX</td>\n      <td>1001_LX</td>\n      <td>3</td>\n      <td>lightrail</td>\n      <td>Moore Park to Central Chalmers Street</td>\n      <td>Central Chalmers Street</td>\n    </tr>\n    <tr>\n      <th>9558</th>\n      <td>Newcastle Transport</td>\n      <td>NT</td>\n      <td>NaN</td>\n      <td>NLR</td>\n      <td>NaN</td>\n      <td>21</td>\n      <td>Newcastle Light Rail Network</td>\n      <td>4</td>\n      <td>Tram</td>\n      <td>NLR</td>\n      <td>...</td>\n      <td>NaN</td>\n      <td>900</td>\n      <td>1</td>\n      <td>NT</td>\n      <td>NT_NLR</td>\n      <td>NT_NLR</td>\n      <td>3</td>\n      <td>lightrail</td>\n      <td>Newcastle Interchange to Newcastle Beach</td>\n      <td>Newcastle Beach</td>\n    </tr>\n    <tr>\n      <th>9559</th>\n      <td>Newcastle Transport</td>\n      <td>NT</td>\n      <td>NaN</td>\n      <td>NLR</td>\n      <td>NaN</td>\n      <td>21</td>\n      <td>Newcastle Light Rail Network</td>\n      <td>4</td>\n      <td>Tram</td>\n      <td>NLR</td>\n      <td>...</td>\n      <td>NaN</td>\n      <td>900</td>\n      <td>1</td>\n      <td>NT</td>\n      <td>NT_NLR</td>\n      <td>NT_NLR</td>\n      <td>3</td>\n      <td>lightrail</td>\n      <td>Newcastle Beach to Newcastle Interchange</td>\n      <td>Newcastle Interchange</td>\n    </tr>\n  </tbody>\n</table>\n<p>9560 rows × 34 columns</p>\n</div>"
     },
     "execution_count": 272,
     "metadata": {},
     "output_type": "execute_result"
    }
   ],
   "source": [
    "df1"
   ],
   "metadata": {
    "collapsed": false,
    "pycharm": {
     "name": "#%%\n"
    }
   }
  },
  {
   "cell_type": "code",
   "execution_count": 304,
   "outputs": [
    {
     "data": {
      "text/plain": "                        operator_name operator_id contract_id  \\\n0     train replacement bus operators         700         NaN   \n1     train replacement bus operators         700         NaN   \n2     train replacement bus operators         700         NaN   \n3     train replacement bus operators         700         NaN   \n4     train replacement bus operators         700         NaN   \n...                               ...         ...         ...   \n9555                Sydney Light Rail         SLR         NaN   \n9556                Sydney Light Rail         SLR         NaN   \n9557                Sydney Light Rail         SLR         NaN   \n9558              Newcastle Transport          NT         NaN   \n9559              Newcastle Transport          NT         NaN   \n\n     my_timetable_route_name route_variant_type  transport_name_id  \\\n0                       1AT9          Temporary                 14   \n1                       1AT9          Temporary                 14   \n2                        1T9          Temporary                 14   \n3                        1T9          Temporary                 14   \n4                       26T8          Temporary                 14   \n...                      ...                ...                ...   \n9555                      L3                NaN                 13   \n9556                      LX                NaN                 13   \n9557                      LX                NaN                 13   \n9558                     NLR                NaN                 21   \n9559                     NLR                NaN                 21   \n\n     transport_name  mot_for_interchange_id mot_for_interchange  \\\n0               Bus                       5                 Bus   \n1               Bus                       5                 Bus   \n2               Bus                       5                 Bus   \n3               Bus                       5                 Bus   \n4               Bus                       5                 Bus   \n...             ...                     ...                 ...   \n9555          Train                       4                Tram   \n9556          Train                       4                Tram   \n9557          Train                       4                Tram   \n9558          Train                       4                Tram   \n9559          Train                       4                Tram   \n\n                 efa_route_name  ... start_date route_type frequency_route  \\\n0                          1AT9  ...        NaN        714               0   \n1                          1AT9  ...        NaN        714               0   \n2                           1T9  ...        NaN        714               0   \n3                           1T9  ...        NaN        714               0   \n4                          26T8  ...        NaN        714               0   \n...                         ...  ...        ...        ...             ...   \n9555          L3 Kingsford Line  ...        NaN        900               1   \n9556  LX Special Event Services  ...        NaN        900               1   \n9557  LX Special Event Services  ...        NaN        900               1   \n9558                        NLR  ...        NaN        900               1   \n9559                        NLR  ...        NaN        900               1   \n\n     gtfs_agency_id  gtfs_route_id_in gtfs_route_id_out gtfs_alerts_id  \\\n0               700          700_1AT9          700_1AT9              7   \n1               700          700_1AT9          700_1AT9              7   \n2               700           700_1T9           700_1T9              7   \n3               700           700_1T9           700_1T9              7   \n4               700          700_26T8          700_26T8              7   \n...             ...               ...               ...            ...   \n9555            SLR           1001_L3           1001_L3              3   \n9556            SLR           1001_LX           1001_LX              3   \n9557            SLR           1001_LX           1001_LX              3   \n9558             NT            NT_NLR            NT_NLR              3   \n9559             NT            NT_NLR            NT_NLR              3   \n\n     gtfs_alerts_name                    start                      end  \n0        sydneytrains              Strathfield                   Epping  \n1        sydneytrains                   Epping              Strathfield  \n2        sydneytrains              Strathfield                  Hornsby  \n3        sydneytrains                  Hornsby              Strathfield  \n4        sydneytrains               East Hills              Wolli Creek  \n...               ...                      ...                      ...  \n9555        lightrail        Juniors Kingsford            Circular Quay  \n9556        lightrail  Central Chalmers Street               Moore Park  \n9557        lightrail               Moore Park  Central Chalmers Street  \n9558        lightrail    Newcastle Interchange          Newcastle Beach  \n9559        lightrail          Newcastle Beach    Newcastle Interchange  \n\n[9560 rows x 34 columns]",
      "text/html": "<div>\n<style scoped>\n    .dataframe tbody tr th:only-of-type {\n        vertical-align: middle;\n    }\n\n    .dataframe tbody tr th {\n        vertical-align: top;\n    }\n\n    .dataframe thead th {\n        text-align: right;\n    }\n</style>\n<table border=\"1\" class=\"dataframe\">\n  <thead>\n    <tr style=\"text-align: right;\">\n      <th></th>\n      <th>operator_name</th>\n      <th>operator_id</th>\n      <th>contract_id</th>\n      <th>my_timetable_route_name</th>\n      <th>route_variant_type</th>\n      <th>transport_name_id</th>\n      <th>transport_name</th>\n      <th>mot_for_interchange_id</th>\n      <th>mot_for_interchange</th>\n      <th>efa_route_name</th>\n      <th>...</th>\n      <th>start_date</th>\n      <th>route_type</th>\n      <th>frequency_route</th>\n      <th>gtfs_agency_id</th>\n      <th>gtfs_route_id_in</th>\n      <th>gtfs_route_id_out</th>\n      <th>gtfs_alerts_id</th>\n      <th>gtfs_alerts_name</th>\n      <th>start</th>\n      <th>end</th>\n    </tr>\n  </thead>\n  <tbody>\n    <tr>\n      <th>0</th>\n      <td>train replacement bus operators</td>\n      <td>700</td>\n      <td>NaN</td>\n      <td>1AT9</td>\n      <td>Temporary</td>\n      <td>14</td>\n      <td>Bus</td>\n      <td>5</td>\n      <td>Bus</td>\n      <td>1AT9</td>\n      <td>...</td>\n      <td>NaN</td>\n      <td>714</td>\n      <td>0</td>\n      <td>700</td>\n      <td>700_1AT9</td>\n      <td>700_1AT9</td>\n      <td>7</td>\n      <td>sydneytrains</td>\n      <td>Strathfield</td>\n      <td>Epping</td>\n    </tr>\n    <tr>\n      <th>1</th>\n      <td>train replacement bus operators</td>\n      <td>700</td>\n      <td>NaN</td>\n      <td>1AT9</td>\n      <td>Temporary</td>\n      <td>14</td>\n      <td>Bus</td>\n      <td>5</td>\n      <td>Bus</td>\n      <td>1AT9</td>\n      <td>...</td>\n      <td>NaN</td>\n      <td>714</td>\n      <td>0</td>\n      <td>700</td>\n      <td>700_1AT9</td>\n      <td>700_1AT9</td>\n      <td>7</td>\n      <td>sydneytrains</td>\n      <td>Epping</td>\n      <td>Strathfield</td>\n    </tr>\n    <tr>\n      <th>2</th>\n      <td>train replacement bus operators</td>\n      <td>700</td>\n      <td>NaN</td>\n      <td>1T9</td>\n      <td>Temporary</td>\n      <td>14</td>\n      <td>Bus</td>\n      <td>5</td>\n      <td>Bus</td>\n      <td>1T9</td>\n      <td>...</td>\n      <td>NaN</td>\n      <td>714</td>\n      <td>0</td>\n      <td>700</td>\n      <td>700_1T9</td>\n      <td>700_1T9</td>\n      <td>7</td>\n      <td>sydneytrains</td>\n      <td>Strathfield</td>\n      <td>Hornsby</td>\n    </tr>\n    <tr>\n      <th>3</th>\n      <td>train replacement bus operators</td>\n      <td>700</td>\n      <td>NaN</td>\n      <td>1T9</td>\n      <td>Temporary</td>\n      <td>14</td>\n      <td>Bus</td>\n      <td>5</td>\n      <td>Bus</td>\n      <td>1T9</td>\n      <td>...</td>\n      <td>NaN</td>\n      <td>714</td>\n      <td>0</td>\n      <td>700</td>\n      <td>700_1T9</td>\n      <td>700_1T9</td>\n      <td>7</td>\n      <td>sydneytrains</td>\n      <td>Hornsby</td>\n      <td>Strathfield</td>\n    </tr>\n    <tr>\n      <th>4</th>\n      <td>train replacement bus operators</td>\n      <td>700</td>\n      <td>NaN</td>\n      <td>26T8</td>\n      <td>Temporary</td>\n      <td>14</td>\n      <td>Bus</td>\n      <td>5</td>\n      <td>Bus</td>\n      <td>26T8</td>\n      <td>...</td>\n      <td>NaN</td>\n      <td>714</td>\n      <td>0</td>\n      <td>700</td>\n      <td>700_26T8</td>\n      <td>700_26T8</td>\n      <td>7</td>\n      <td>sydneytrains</td>\n      <td>East Hills</td>\n      <td>Wolli Creek</td>\n    </tr>\n    <tr>\n      <th>...</th>\n      <td>...</td>\n      <td>...</td>\n      <td>...</td>\n      <td>...</td>\n      <td>...</td>\n      <td>...</td>\n      <td>...</td>\n      <td>...</td>\n      <td>...</td>\n      <td>...</td>\n      <td>...</td>\n      <td>...</td>\n      <td>...</td>\n      <td>...</td>\n      <td>...</td>\n      <td>...</td>\n      <td>...</td>\n      <td>...</td>\n      <td>...</td>\n      <td>...</td>\n      <td>...</td>\n    </tr>\n    <tr>\n      <th>9555</th>\n      <td>Sydney Light Rail</td>\n      <td>SLR</td>\n      <td>NaN</td>\n      <td>L3</td>\n      <td>NaN</td>\n      <td>13</td>\n      <td>Train</td>\n      <td>4</td>\n      <td>Tram</td>\n      <td>L3 Kingsford Line</td>\n      <td>...</td>\n      <td>NaN</td>\n      <td>900</td>\n      <td>1</td>\n      <td>SLR</td>\n      <td>1001_L3</td>\n      <td>1001_L3</td>\n      <td>3</td>\n      <td>lightrail</td>\n      <td>Juniors Kingsford</td>\n      <td>Circular Quay</td>\n    </tr>\n    <tr>\n      <th>9556</th>\n      <td>Sydney Light Rail</td>\n      <td>SLR</td>\n      <td>NaN</td>\n      <td>LX</td>\n      <td>NaN</td>\n      <td>13</td>\n      <td>Train</td>\n      <td>4</td>\n      <td>Tram</td>\n      <td>LX Special Event Services</td>\n      <td>...</td>\n      <td>NaN</td>\n      <td>900</td>\n      <td>1</td>\n      <td>SLR</td>\n      <td>1001_LX</td>\n      <td>1001_LX</td>\n      <td>3</td>\n      <td>lightrail</td>\n      <td>Central Chalmers Street</td>\n      <td>Moore Park</td>\n    </tr>\n    <tr>\n      <th>9557</th>\n      <td>Sydney Light Rail</td>\n      <td>SLR</td>\n      <td>NaN</td>\n      <td>LX</td>\n      <td>NaN</td>\n      <td>13</td>\n      <td>Train</td>\n      <td>4</td>\n      <td>Tram</td>\n      <td>LX Special Event Services</td>\n      <td>...</td>\n      <td>NaN</td>\n      <td>900</td>\n      <td>1</td>\n      <td>SLR</td>\n      <td>1001_LX</td>\n      <td>1001_LX</td>\n      <td>3</td>\n      <td>lightrail</td>\n      <td>Moore Park</td>\n      <td>Central Chalmers Street</td>\n    </tr>\n    <tr>\n      <th>9558</th>\n      <td>Newcastle Transport</td>\n      <td>NT</td>\n      <td>NaN</td>\n      <td>NLR</td>\n      <td>NaN</td>\n      <td>21</td>\n      <td>Train</td>\n      <td>4</td>\n      <td>Tram</td>\n      <td>NLR</td>\n      <td>...</td>\n      <td>NaN</td>\n      <td>900</td>\n      <td>1</td>\n      <td>NT</td>\n      <td>NT_NLR</td>\n      <td>NT_NLR</td>\n      <td>3</td>\n      <td>lightrail</td>\n      <td>Newcastle Interchange</td>\n      <td>Newcastle Beach</td>\n    </tr>\n    <tr>\n      <th>9559</th>\n      <td>Newcastle Transport</td>\n      <td>NT</td>\n      <td>NaN</td>\n      <td>NLR</td>\n      <td>NaN</td>\n      <td>21</td>\n      <td>Train</td>\n      <td>4</td>\n      <td>Tram</td>\n      <td>NLR</td>\n      <td>...</td>\n      <td>NaN</td>\n      <td>900</td>\n      <td>1</td>\n      <td>NT</td>\n      <td>NT_NLR</td>\n      <td>NT_NLR</td>\n      <td>3</td>\n      <td>lightrail</td>\n      <td>Newcastle Beach</td>\n      <td>Newcastle Interchange</td>\n    </tr>\n  </tbody>\n</table>\n<p>9560 rows × 34 columns</p>\n</div>"
     },
     "execution_count": 304,
     "metadata": {},
     "output_type": "execute_result"
    }
   ],
   "source": [
    "df3 = df1.copy(True)\n",
    "df3.loc[(df3['mot_for_interchange'] == 'Other'), 'transport_name'] = 'Bus'\n",
    "df3.loc[(df3['mot_for_interchange'] == 'Bus'), 'transport_name'] = 'Bus'\n",
    "df3.loc[(df3['mot_for_interchange'] == 'Coach'), 'transport_name'] = 'Bus'\n",
    "df3.loc[(df3['mot_for_interchange'] == 'Commuter railway'), 'transport_name'] = 'Light Rail'\n",
    "df3.loc[(df3['mot_for_interchange'] == 'Ferry'), 'transport_name'] = 'Ferry'\n",
    "df3.loc[(df1['mot_for_interchange'] == 'Tram'), 'transport_name'] = 'Train'\n",
    "df3.loc[(df3['mot_for_interchange'] == 'Subway'), 'transport_name'] = 'Metro'\n",
    "df3"
   ],
   "metadata": {
    "collapsed": false,
    "pycharm": {
     "name": "#%%\n"
    }
   }
  },
  {
   "cell_type": "markdown",
   "source": [],
   "metadata": {
    "collapsed": false,
    "pycharm": {
     "name": "#%% md\n"
    }
   }
  },
  {
   "cell_type": "code",
   "execution_count": 286,
   "outputs": [
    {
     "data": {
      "text/plain": "Bus           9448\nLight Rail      54\nFerry           46\nTrain           10\nMetro            2\nName: transport_name, dtype: int64"
     },
     "execution_count": 286,
     "metadata": {},
     "output_type": "execute_result"
    }
   ],
   "source": [
    "trans = df3['transport_name'].value_counts()\n",
    "trans"
   ],
   "metadata": {
    "collapsed": false,
    "pycharm": {
     "name": "#%%\n"
    }
   }
  },
  {
   "cell_type": "code",
   "execution_count": 426,
   "outputs": [
    {
     "data": {
      "text/plain": "  transport_name  frequency\n0          Metro          2\n1          Train         10\n2          Ferry         46\n3     Light Rail         54\n4            Bus       9448",
      "text/html": "<div>\n<style scoped>\n    .dataframe tbody tr th:only-of-type {\n        vertical-align: middle;\n    }\n\n    .dataframe tbody tr th {\n        vertical-align: top;\n    }\n\n    .dataframe thead th {\n        text-align: right;\n    }\n</style>\n<table border=\"1\" class=\"dataframe\">\n  <thead>\n    <tr style=\"text-align: right;\">\n      <th></th>\n      <th>transport_name</th>\n      <th>frequency</th>\n    </tr>\n  </thead>\n  <tbody>\n    <tr>\n      <th>0</th>\n      <td>Metro</td>\n      <td>2</td>\n    </tr>\n    <tr>\n      <th>1</th>\n      <td>Train</td>\n      <td>10</td>\n    </tr>\n    <tr>\n      <th>2</th>\n      <td>Ferry</td>\n      <td>46</td>\n    </tr>\n    <tr>\n      <th>3</th>\n      <td>Light Rail</td>\n      <td>54</td>\n    </tr>\n    <tr>\n      <th>4</th>\n      <td>Bus</td>\n      <td>9448</td>\n    </tr>\n  </tbody>\n</table>\n</div>"
     },
     "execution_count": 426,
     "metadata": {},
     "output_type": "execute_result"
    }
   ],
   "source": [
    "df4 = df3.copy(True)\n",
    "df4 = df4['transport_name'].value_counts()\n",
    "df4 = df4.to_frame().rename_axis().reset_index()\n",
    "df4 = df4.rename(columns={'index':'transport_name', 'transport_name':'frequency'})\n",
    "df4 = df4.sort_values(by='frequency', ascending=True)\n",
    "df4 = df4.set_index([pd.Index([0,1,2,3,4])])\n",
    "df4"
   ],
   "metadata": {
    "collapsed": false,
    "pycharm": {
     "name": "#%%\n"
    }
   }
  },
  {
   "cell_type": "code",
   "execution_count": 427,
   "outputs": [
    {
     "data": {
      "text/plain": "                    ratio\ndepot                    \nSmeaton Grange  21.533333\nBrookvale        0.082885\nTaren Point      0.080161\nValley Heights   0.080099\nCharmhaven       0.072521",
      "text/html": "<div>\n<style scoped>\n    .dataframe tbody tr th:only-of-type {\n        vertical-align: middle;\n    }\n\n    .dataframe tbody tr th {\n        vertical-align: top;\n    }\n\n    .dataframe thead th {\n        text-align: right;\n    }\n</style>\n<table border=\"1\" class=\"dataframe\">\n  <thead>\n    <tr style=\"text-align: right;\">\n      <th></th>\n      <th>ratio</th>\n    </tr>\n    <tr>\n      <th>depot</th>\n      <th></th>\n    </tr>\n  </thead>\n  <tbody>\n    <tr>\n      <th>Smeaton Grange</th>\n      <td>21.533333</td>\n    </tr>\n    <tr>\n      <th>Brookvale</th>\n      <td>0.082885</td>\n    </tr>\n    <tr>\n      <th>Taren Point</th>\n      <td>0.080161</td>\n    </tr>\n    <tr>\n      <th>Valley Heights</th>\n      <td>0.080099</td>\n    </tr>\n    <tr>\n      <th>Charmhaven</th>\n      <td>0.072521</td>\n    </tr>\n  </tbody>\n</table>\n</div>"
     },
     "execution_count": 427,
     "metadata": {},
     "output_type": "execute_result"
    }
   ],
   "source": [
    "df5 = df3[df3['depot_name'].notnull()]\n",
    "suburbsDF = pd.read_csv('suburbs.csv')\n",
    "df_5 = suburbsDF.copy(True)\n",
    "df_5 = df_5[['suburb', 'population']]\n",
    "df_5 = df_5.groupby(['suburb']).sum().reset_index()\n",
    "df5 = df5['depot_name'].value_counts()\n",
    "df5 = df5.to_frame().rename_axis().reset_index()\n",
    "df5 = df5.rename(columns={'index':'suburb', 'depot_name':'frequency'})\n",
    "df5 = pd.merge(df5, df_5, on='suburb').rename(columns={'suburb':'depot'})\n",
    "df5['ratio'] = df5['frequency']/df5['population']\n",
    "df5 = df5[['depot', 'ratio']].sort_values(by='ratio', ascending=False)[0:5]\n",
    "df5 = df5.set_index('depot')\n",
    "df5"
   ],
   "metadata": {
    "collapsed": false,
    "pycharm": {
     "name": "#%%\n"
    }
   }
  },
  {
   "cell_type": "code",
   "execution_count": 306,
   "outputs": [
    {
     "data": {
      "text/plain": "transport_name                                           Bus           Ferry  \\\noperator_name                                                                  \nAllen's Coaches                                         24.0             0.0   \nAtwal Bus                                               16.0             0.0   \nBNA Buses                                               22.0             0.0   \nBaldwin's Bus Service                                    8.0             0.0   \nBallina Buslines                                        10.0             0.0   \n...                                                      ...             ...   \nWingham Buslines                                         5.0             0.0   \ntrain replacement bus operators                         51.0             0.0   \nsum of transport                                      9448.0            46.0   \n# of operators for each transport                      122.0            10.0   \nthe largest operator for each transport  Hunter Valley Buses  Sydney Ferries   \n\ntransport_name                          Light Rail         Metro  \\\noperator_name                                                      \nAllen's Coaches                                0.0           0.0   \nAtwal Bus                                      0.0           0.0   \nBNA Buses                                      0.0           0.0   \nBaldwin's Bus Service                          0.0           0.0   \nBallina Buslines                               0.0           0.0   \n...                                            ...           ...   \nWingham Buslines                               0.0           0.0   \ntrain replacement bus operators                0.0           0.0   \nsum of transport                              54.0           2.0   \n# of operators for each transport              2.0           1.0   \nthe largest operator for each transport  TrainLink  Sydney Metro   \n\ntransport_name                                       Train  \\\noperator_name                                                \nAllen's Coaches                                        0.0   \nAtwal Bus                                              0.0   \nBNA Buses                                              0.0   \nBaldwin's Bus Service                                  0.0   \nBallina Buslines                                       0.0   \n...                                                    ...   \nWingham Buslines                                       0.0   \ntrain replacement bus operators                        0.0   \nsum of transport                                      10.0   \n# of operators for each transport                      2.0   \nthe largest operator for each transport  Sydney Light Rail   \n\ntransport_name                           total transports for each operator  \\\noperator_name                                                                 \nAllen's Coaches                                                        24.0   \nAtwal Bus                                                              16.0   \nBNA Buses                                                              22.0   \nBaldwin's Bus Service                                                   8.0   \nBallina Buslines                                                       10.0   \n...                                                                     ...   \nWingham Buslines                                                        5.0   \ntrain replacement bus operators                                        51.0   \nsum of transport                                                        NaN   \n# of operators for each transport                                       NaN   \nthe largest operator for each transport                                 NaN   \n\ntransport_name                           # of transport types for each operator  \\\noperator_name                                                                     \nAllen's Coaches                                                             1.0   \nAtwal Bus                                                                   1.0   \nBNA Buses                                                                   1.0   \nBaldwin's Bus Service                                                       1.0   \nBallina Buslines                                                            1.0   \n...                                                                         ...   \nWingham Buslines                                                            1.0   \ntrain replacement bus operators                                             1.0   \nsum of transport                                                            NaN   \n# of operators for each transport                                           NaN   \nthe largest operator for each transport                                     NaN   \n\ntransport_name                          the most transport for each operator  \noperator_name                                                                 \nAllen's Coaches                                                          Bus  \nAtwal Bus                                                                Bus  \nBNA Buses                                                                Bus  \nBaldwin's Bus Service                                                    Bus  \nBallina Buslines                                                         Bus  \n...                                                                      ...  \nWingham Buslines                                                         Bus  \ntrain replacement bus operators                                          Bus  \nsum of transport                                                         NaN  \n# of operators for each transport                                        NaN  \nthe largest operator for each transport                                  NaN  \n\n[137 rows x 8 columns]",
      "text/html": "<div>\n<style scoped>\n    .dataframe tbody tr th:only-of-type {\n        vertical-align: middle;\n    }\n\n    .dataframe tbody tr th {\n        vertical-align: top;\n    }\n\n    .dataframe thead th {\n        text-align: right;\n    }\n</style>\n<table border=\"1\" class=\"dataframe\">\n  <thead>\n    <tr style=\"text-align: right;\">\n      <th>transport_name</th>\n      <th>Bus</th>\n      <th>Ferry</th>\n      <th>Light Rail</th>\n      <th>Metro</th>\n      <th>Train</th>\n      <th>total transports for each operator</th>\n      <th># of transport types for each operator</th>\n      <th>the most transport for each operator</th>\n    </tr>\n    <tr>\n      <th>operator_name</th>\n      <th></th>\n      <th></th>\n      <th></th>\n      <th></th>\n      <th></th>\n      <th></th>\n      <th></th>\n      <th></th>\n    </tr>\n  </thead>\n  <tbody>\n    <tr>\n      <th>Allen's Coaches</th>\n      <td>24.0</td>\n      <td>0.0</td>\n      <td>0.0</td>\n      <td>0.0</td>\n      <td>0.0</td>\n      <td>24.0</td>\n      <td>1.0</td>\n      <td>Bus</td>\n    </tr>\n    <tr>\n      <th>Atwal Bus</th>\n      <td>16.0</td>\n      <td>0.0</td>\n      <td>0.0</td>\n      <td>0.0</td>\n      <td>0.0</td>\n      <td>16.0</td>\n      <td>1.0</td>\n      <td>Bus</td>\n    </tr>\n    <tr>\n      <th>BNA Buses</th>\n      <td>22.0</td>\n      <td>0.0</td>\n      <td>0.0</td>\n      <td>0.0</td>\n      <td>0.0</td>\n      <td>22.0</td>\n      <td>1.0</td>\n      <td>Bus</td>\n    </tr>\n    <tr>\n      <th>Baldwin's Bus Service</th>\n      <td>8.0</td>\n      <td>0.0</td>\n      <td>0.0</td>\n      <td>0.0</td>\n      <td>0.0</td>\n      <td>8.0</td>\n      <td>1.0</td>\n      <td>Bus</td>\n    </tr>\n    <tr>\n      <th>Ballina Buslines</th>\n      <td>10.0</td>\n      <td>0.0</td>\n      <td>0.0</td>\n      <td>0.0</td>\n      <td>0.0</td>\n      <td>10.0</td>\n      <td>1.0</td>\n      <td>Bus</td>\n    </tr>\n    <tr>\n      <th>...</th>\n      <td>...</td>\n      <td>...</td>\n      <td>...</td>\n      <td>...</td>\n      <td>...</td>\n      <td>...</td>\n      <td>...</td>\n      <td>...</td>\n    </tr>\n    <tr>\n      <th>Wingham Buslines</th>\n      <td>5.0</td>\n      <td>0.0</td>\n      <td>0.0</td>\n      <td>0.0</td>\n      <td>0.0</td>\n      <td>5.0</td>\n      <td>1.0</td>\n      <td>Bus</td>\n    </tr>\n    <tr>\n      <th>train replacement bus operators</th>\n      <td>51.0</td>\n      <td>0.0</td>\n      <td>0.0</td>\n      <td>0.0</td>\n      <td>0.0</td>\n      <td>51.0</td>\n      <td>1.0</td>\n      <td>Bus</td>\n    </tr>\n    <tr>\n      <th>sum of transport</th>\n      <td>9448.0</td>\n      <td>46.0</td>\n      <td>54.0</td>\n      <td>2.0</td>\n      <td>10.0</td>\n      <td>NaN</td>\n      <td>NaN</td>\n      <td>NaN</td>\n    </tr>\n    <tr>\n      <th># of operators for each transport</th>\n      <td>122.0</td>\n      <td>10.0</td>\n      <td>2.0</td>\n      <td>1.0</td>\n      <td>2.0</td>\n      <td>NaN</td>\n      <td>NaN</td>\n      <td>NaN</td>\n    </tr>\n    <tr>\n      <th>the largest operator for each transport</th>\n      <td>Hunter Valley Buses</td>\n      <td>Sydney Ferries</td>\n      <td>TrainLink</td>\n      <td>Sydney Metro</td>\n      <td>Sydney Light Rail</td>\n      <td>NaN</td>\n      <td>NaN</td>\n      <td>NaN</td>\n    </tr>\n  </tbody>\n</table>\n<p>137 rows × 8 columns</p>\n</div>"
     },
     "execution_count": 306,
     "metadata": {},
     "output_type": "execute_result"
    }
   ],
   "source": [
    "df6 = df3.copy(True)\n",
    "df6 = df6[['operator_name','transport_name']]\n",
    "df6 = df6.groupby(['operator_name', 'transport_name']).size().unstack(fill_value=0)\n",
    "df_6 = df6.copy(True)\n",
    "df6.loc['sum of transport'] = df_6.sum(axis=0)\n",
    "df6['total transports for each operator'] = df_6.sum(axis=1)\n",
    "df6['# of transport types for each operator'] = df_6.astype(bool).sum(axis=1)\n",
    "df6.loc['# of operators for each transport'] = df_6.astype(bool).sum(axis=0)\n",
    "df6['the most transport for each operator'] = df_6.idxmax(axis=1)\n",
    "df6.loc['the largest operator for each transport'] = df_6.idxmax(axis=0)\n",
    "df6"
   ],
   "metadata": {
    "collapsed": false,
    "pycharm": {
     "name": "#%%\n"
    }
   }
  },
  {
   "cell_type": "code",
   "execution_count": 519,
   "outputs": [
    {
     "ename": "KeyError",
     "evalue": "'transport_name'",
     "output_type": "error",
     "traceback": [
      "\u001B[0;31m---------------------------------------------------------------------------\u001B[0m",
      "\u001B[0;31mKeyError\u001B[0m                                  Traceback (most recent call last)",
      "\u001B[0;32m/var/folders/lr/ckvh9k1s7pz3_hm0495z7m_w0000gn/T/ipykernel_2923/848324172.py\u001B[0m in \u001B[0;36m<module>\u001B[0;34m\u001B[0m\n\u001B[0;32m----> 1\u001B[0;31m \u001B[0mtable\u001B[0m \u001B[0;34m=\u001B[0m \u001B[0mpd\u001B[0m\u001B[0;34m.\u001B[0m\u001B[0mpivot_table\u001B[0m\u001B[0;34m(\u001B[0m\u001B[0mdf6\u001B[0m\u001B[0;34m,\u001B[0m \u001B[0mindex\u001B[0m\u001B[0;34m=\u001B[0m\u001B[0;34m[\u001B[0m\u001B[0mdf6\u001B[0m\u001B[0;34m.\u001B[0m\u001B[0mindex\u001B[0m\u001B[0;34m.\u001B[0m\u001B[0mname\u001B[0m\u001B[0;34m]\u001B[0m\u001B[0;34m,\u001B[0m \u001B[0mcolumns\u001B[0m\u001B[0;34m=\u001B[0m\u001B[0;34m[\u001B[0m\u001B[0mdf6\u001B[0m\u001B[0;34m.\u001B[0m\u001B[0mcolumns\u001B[0m\u001B[0;34m.\u001B[0m\u001B[0mname\u001B[0m\u001B[0;34m]\u001B[0m\u001B[0;34m)\u001B[0m\u001B[0;34m\u001B[0m\u001B[0;34m\u001B[0m\u001B[0m\n\u001B[0m\u001B[1;32m      2\u001B[0m \u001B[0mtable\u001B[0m\u001B[0;34m\u001B[0m\u001B[0;34m\u001B[0m\u001B[0m\n",
      "\u001B[0;32m~/.conda/envs/COMP9021/lib/python3.8/site-packages/pandas/core/reshape/pivot.py\u001B[0m in \u001B[0;36mpivot_table\u001B[0;34m(data, values, index, columns, aggfunc, fill_value, margins, dropna, margins_name, observed, sort)\u001B[0m\n\u001B[1;32m     93\u001B[0m         \u001B[0;32mreturn\u001B[0m \u001B[0mtable\u001B[0m\u001B[0;34m.\u001B[0m\u001B[0m__finalize__\u001B[0m\u001B[0;34m(\u001B[0m\u001B[0mdata\u001B[0m\u001B[0;34m,\u001B[0m \u001B[0mmethod\u001B[0m\u001B[0;34m=\u001B[0m\u001B[0;34m\"pivot_table\"\u001B[0m\u001B[0;34m)\u001B[0m\u001B[0;34m\u001B[0m\u001B[0;34m\u001B[0m\u001B[0m\n\u001B[1;32m     94\u001B[0m \u001B[0;34m\u001B[0m\u001B[0m\n\u001B[0;32m---> 95\u001B[0;31m     table = __internal_pivot_table(\n\u001B[0m\u001B[1;32m     96\u001B[0m         \u001B[0mdata\u001B[0m\u001B[0;34m,\u001B[0m\u001B[0;34m\u001B[0m\u001B[0;34m\u001B[0m\u001B[0m\n\u001B[1;32m     97\u001B[0m         \u001B[0mvalues\u001B[0m\u001B[0;34m,\u001B[0m\u001B[0;34m\u001B[0m\u001B[0;34m\u001B[0m\u001B[0m\n",
      "\u001B[0;32m~/.conda/envs/COMP9021/lib/python3.8/site-packages/pandas/core/reshape/pivot.py\u001B[0m in \u001B[0;36m__internal_pivot_table\u001B[0;34m(data, values, index, columns, aggfunc, fill_value, margins, dropna, margins_name, observed, sort)\u001B[0m\n\u001B[1;32m    162\u001B[0m         \u001B[0mvalues\u001B[0m \u001B[0;34m=\u001B[0m \u001B[0mlist\u001B[0m\u001B[0;34m(\u001B[0m\u001B[0mvalues\u001B[0m\u001B[0;34m)\u001B[0m\u001B[0;34m\u001B[0m\u001B[0;34m\u001B[0m\u001B[0m\n\u001B[1;32m    163\u001B[0m \u001B[0;34m\u001B[0m\u001B[0m\n\u001B[0;32m--> 164\u001B[0;31m     \u001B[0mgrouped\u001B[0m \u001B[0;34m=\u001B[0m \u001B[0mdata\u001B[0m\u001B[0;34m.\u001B[0m\u001B[0mgroupby\u001B[0m\u001B[0;34m(\u001B[0m\u001B[0mkeys\u001B[0m\u001B[0;34m,\u001B[0m \u001B[0mobserved\u001B[0m\u001B[0;34m=\u001B[0m\u001B[0mobserved\u001B[0m\u001B[0;34m,\u001B[0m \u001B[0msort\u001B[0m\u001B[0;34m=\u001B[0m\u001B[0msort\u001B[0m\u001B[0;34m)\u001B[0m\u001B[0;34m\u001B[0m\u001B[0;34m\u001B[0m\u001B[0m\n\u001B[0m\u001B[1;32m    165\u001B[0m     \u001B[0magged\u001B[0m \u001B[0;34m=\u001B[0m \u001B[0mgrouped\u001B[0m\u001B[0;34m.\u001B[0m\u001B[0magg\u001B[0m\u001B[0;34m(\u001B[0m\u001B[0maggfunc\u001B[0m\u001B[0;34m)\u001B[0m\u001B[0;34m\u001B[0m\u001B[0;34m\u001B[0m\u001B[0m\n\u001B[1;32m    166\u001B[0m     \u001B[0;32mif\u001B[0m \u001B[0mdropna\u001B[0m \u001B[0;32mand\u001B[0m \u001B[0misinstance\u001B[0m\u001B[0;34m(\u001B[0m\u001B[0magged\u001B[0m\u001B[0;34m,\u001B[0m \u001B[0mABCDataFrame\u001B[0m\u001B[0;34m)\u001B[0m \u001B[0;32mand\u001B[0m \u001B[0mlen\u001B[0m\u001B[0;34m(\u001B[0m\u001B[0magged\u001B[0m\u001B[0;34m.\u001B[0m\u001B[0mcolumns\u001B[0m\u001B[0;34m)\u001B[0m\u001B[0;34m:\u001B[0m\u001B[0;34m\u001B[0m\u001B[0;34m\u001B[0m\u001B[0m\n",
      "\u001B[0;32m~/.conda/envs/COMP9021/lib/python3.8/site-packages/pandas/core/frame.py\u001B[0m in \u001B[0;36mgroupby\u001B[0;34m(self, by, axis, level, as_index, sort, group_keys, squeeze, observed, dropna)\u001B[0m\n\u001B[1;32m   7629\u001B[0m         \u001B[0;31m# error: Argument \"squeeze\" to \"DataFrameGroupBy\" has incompatible type\u001B[0m\u001B[0;34m\u001B[0m\u001B[0;34m\u001B[0m\u001B[0;34m\u001B[0m\u001B[0m\n\u001B[1;32m   7630\u001B[0m         \u001B[0;31m# \"Union[bool, NoDefault]\"; expected \"bool\"\u001B[0m\u001B[0;34m\u001B[0m\u001B[0;34m\u001B[0m\u001B[0;34m\u001B[0m\u001B[0m\n\u001B[0;32m-> 7631\u001B[0;31m         return DataFrameGroupBy(\n\u001B[0m\u001B[1;32m   7632\u001B[0m             \u001B[0mobj\u001B[0m\u001B[0;34m=\u001B[0m\u001B[0mself\u001B[0m\u001B[0;34m,\u001B[0m\u001B[0;34m\u001B[0m\u001B[0;34m\u001B[0m\u001B[0m\n\u001B[1;32m   7633\u001B[0m             \u001B[0mkeys\u001B[0m\u001B[0;34m=\u001B[0m\u001B[0mby\u001B[0m\u001B[0;34m,\u001B[0m\u001B[0;34m\u001B[0m\u001B[0;34m\u001B[0m\u001B[0m\n",
      "\u001B[0;32m~/.conda/envs/COMP9021/lib/python3.8/site-packages/pandas/core/groupby/groupby.py\u001B[0m in \u001B[0;36m__init__\u001B[0;34m(self, obj, keys, axis, level, grouper, exclusions, selection, as_index, sort, group_keys, squeeze, observed, mutated, dropna)\u001B[0m\n\u001B[1;32m    887\u001B[0m             \u001B[0;32mfrom\u001B[0m \u001B[0mpandas\u001B[0m\u001B[0;34m.\u001B[0m\u001B[0mcore\u001B[0m\u001B[0;34m.\u001B[0m\u001B[0mgroupby\u001B[0m\u001B[0;34m.\u001B[0m\u001B[0mgrouper\u001B[0m \u001B[0;32mimport\u001B[0m \u001B[0mget_grouper\u001B[0m\u001B[0;34m\u001B[0m\u001B[0;34m\u001B[0m\u001B[0m\n\u001B[1;32m    888\u001B[0m \u001B[0;34m\u001B[0m\u001B[0m\n\u001B[0;32m--> 889\u001B[0;31m             grouper, exclusions, obj = get_grouper(\n\u001B[0m\u001B[1;32m    890\u001B[0m                 \u001B[0mobj\u001B[0m\u001B[0;34m,\u001B[0m\u001B[0;34m\u001B[0m\u001B[0;34m\u001B[0m\u001B[0m\n\u001B[1;32m    891\u001B[0m                 \u001B[0mkeys\u001B[0m\u001B[0;34m,\u001B[0m\u001B[0;34m\u001B[0m\u001B[0;34m\u001B[0m\u001B[0m\n",
      "\u001B[0;32m~/.conda/envs/COMP9021/lib/python3.8/site-packages/pandas/core/groupby/grouper.py\u001B[0m in \u001B[0;36mget_grouper\u001B[0;34m(obj, key, axis, level, sort, observed, mutated, validate, dropna)\u001B[0m\n\u001B[1;32m    860\u001B[0m                 \u001B[0min_axis\u001B[0m\u001B[0;34m,\u001B[0m \u001B[0mlevel\u001B[0m\u001B[0;34m,\u001B[0m \u001B[0mgpr\u001B[0m \u001B[0;34m=\u001B[0m \u001B[0;32mFalse\u001B[0m\u001B[0;34m,\u001B[0m \u001B[0mgpr\u001B[0m\u001B[0;34m,\u001B[0m \u001B[0;32mNone\u001B[0m\u001B[0;34m\u001B[0m\u001B[0;34m\u001B[0m\u001B[0m\n\u001B[1;32m    861\u001B[0m             \u001B[0;32melse\u001B[0m\u001B[0;34m:\u001B[0m\u001B[0;34m\u001B[0m\u001B[0;34m\u001B[0m\u001B[0m\n\u001B[0;32m--> 862\u001B[0;31m                 \u001B[0;32mraise\u001B[0m \u001B[0mKeyError\u001B[0m\u001B[0;34m(\u001B[0m\u001B[0mgpr\u001B[0m\u001B[0;34m)\u001B[0m\u001B[0;34m\u001B[0m\u001B[0;34m\u001B[0m\u001B[0m\n\u001B[0m\u001B[1;32m    863\u001B[0m         \u001B[0;32melif\u001B[0m \u001B[0misinstance\u001B[0m\u001B[0;34m(\u001B[0m\u001B[0mgpr\u001B[0m\u001B[0;34m,\u001B[0m \u001B[0mGrouper\u001B[0m\u001B[0;34m)\u001B[0m \u001B[0;32mand\u001B[0m \u001B[0mgpr\u001B[0m\u001B[0;34m.\u001B[0m\u001B[0mkey\u001B[0m \u001B[0;32mis\u001B[0m \u001B[0;32mnot\u001B[0m \u001B[0;32mNone\u001B[0m\u001B[0;34m:\u001B[0m\u001B[0;34m\u001B[0m\u001B[0;34m\u001B[0m\u001B[0m\n\u001B[1;32m    864\u001B[0m             \u001B[0;31m# Add key to exclusions\u001B[0m\u001B[0;34m\u001B[0m\u001B[0;34m\u001B[0m\u001B[0;34m\u001B[0m\u001B[0m\n",
      "\u001B[0;31mKeyError\u001B[0m: 'transport_name'"
     ]
    }
   ],
   "source": [
    "table = pd.pivot_table(df6, index=[df6.index.name], columns=[df6.columns.name])\n",
    "table"
   ],
   "metadata": {
    "collapsed": false,
    "pycharm": {
     "name": "#%%\n"
    }
   }
  },
  {
   "cell_type": "code",
   "execution_count": 504,
   "outputs": [
    {
     "data": {
      "text/plain": "       A         B   C\n0   John   Masters  27\n1   Boby  Graduate  23\n2   Mina  Graduate  21\n3  Peter   Masters  23\n4  Nicky  Graduate  24",
      "text/html": "<div>\n<style scoped>\n    .dataframe tbody tr th:only-of-type {\n        vertical-align: middle;\n    }\n\n    .dataframe tbody tr th {\n        vertical-align: top;\n    }\n\n    .dataframe thead th {\n        text-align: right;\n    }\n</style>\n<table border=\"1\" class=\"dataframe\">\n  <thead>\n    <tr style=\"text-align: right;\">\n      <th></th>\n      <th>A</th>\n      <th>B</th>\n      <th>C</th>\n    </tr>\n  </thead>\n  <tbody>\n    <tr>\n      <th>0</th>\n      <td>John</td>\n      <td>Masters</td>\n      <td>27</td>\n    </tr>\n    <tr>\n      <th>1</th>\n      <td>Boby</td>\n      <td>Graduate</td>\n      <td>23</td>\n    </tr>\n    <tr>\n      <th>2</th>\n      <td>Mina</td>\n      <td>Graduate</td>\n      <td>21</td>\n    </tr>\n    <tr>\n      <th>3</th>\n      <td>Peter</td>\n      <td>Masters</td>\n      <td>23</td>\n    </tr>\n    <tr>\n      <th>4</th>\n      <td>Nicky</td>\n      <td>Graduate</td>\n      <td>24</td>\n    </tr>\n  </tbody>\n</table>\n</div>"
     },
     "execution_count": 504,
     "metadata": {},
     "output_type": "execute_result"
    }
   ],
   "source": [
    "import pandas as pd\n",
    "import numpy as np\n",
    "\n",
    "# creating a dataframe\n",
    "df = pd.DataFrame({'A': ['John', 'Boby', 'Mina', 'Peter', 'Nicky'],\n",
    "      'B': ['Masters', 'Graduate', 'Graduate', 'Masters', 'Graduate'],\n",
    "      'C': [27, 23, 21, 23, 24]})\n",
    "\n",
    "df"
   ],
   "metadata": {
    "collapsed": false,
    "pycharm": {
     "name": "#%%\n"
    }
   }
  },
  {
   "cell_type": "code",
   "execution_count": 507,
   "outputs": [
    {
     "data": {
      "text/plain": "Empty DataFrame\nColumns: []\nIndex: [(Boby, Graduate, 23), (John, Masters, 27), (Mina, Graduate, 21), (Nicky, Graduate, 24), (Peter, Masters, 23)]",
      "text/html": "<div>\n<style scoped>\n    .dataframe tbody tr th:only-of-type {\n        vertical-align: middle;\n    }\n\n    .dataframe tbody tr th {\n        vertical-align: top;\n    }\n\n    .dataframe thead th {\n        text-align: right;\n    }\n</style>\n<table border=\"1\" class=\"dataframe\">\n  <thead>\n    <tr style=\"text-align: right;\">\n      <th></th>\n      <th></th>\n      <th></th>\n    </tr>\n    <tr>\n      <th>A</th>\n      <th>B</th>\n      <th>C</th>\n    </tr>\n  </thead>\n  <tbody>\n    <tr>\n      <th>Boby</th>\n      <th>Graduate</th>\n      <th>23</th>\n    </tr>\n    <tr>\n      <th>John</th>\n      <th>Masters</th>\n      <th>27</th>\n    </tr>\n    <tr>\n      <th>Mina</th>\n      <th>Graduate</th>\n      <th>21</th>\n    </tr>\n    <tr>\n      <th>Nicky</th>\n      <th>Graduate</th>\n      <th>24</th>\n    </tr>\n    <tr>\n      <th>Peter</th>\n      <th>Masters</th>\n      <th>23</th>\n    </tr>\n  </tbody>\n</table>\n</div>"
     },
     "execution_count": 507,
     "metadata": {},
     "output_type": "execute_result"
    }
   ],
   "source": [
    "table = pd.pivot_table(df, index =['A', 'B','C'])\n",
    "\n",
    "table"
   ],
   "metadata": {
    "collapsed": false,
    "pycharm": {
     "name": "#%%\n"
    }
   }
  },
  {
   "cell_type": "code",
   "execution_count": 365,
   "outputs": [
    {
     "name": "stderr",
     "output_type": "stream",
     "text": [
      "No handles with labels found to put in legend.\n"
     ]
    },
    {
     "data": {
      "text/plain": "<Figure size 576x396 with 1 Axes>",
      "image/png": "[encoded data removed]"
     },
     "metadata": {},
     "output_type": "display_data"
    }
   ],
   "source": [
    "suburbsDF = pd.read_csv('suburbs.csv')\n",
    "df7 = suburbsDF.copy(True)\n",
    "df7 = df7[df7['state'] == 'NSW']\n",
    "df7 = df7[df7['statistic_area'] == 'Greater Sydney']\n",
    "df7 = df7[['local_goverment_area', 'population', 'median_income', 'sqkm']]\n",
    "df7 = df7.groupby(['local_goverment_area']).mean().reset_index()\n",
    "LGA = df7['local_goverment_area'].tolist()\n",
    "\n",
    "median_income = df7['median_income'].tolist()\n",
    "population = df7['population'].tolist()\n",
    "sqkm = df7['sqkm'].tolist()\n",
    "np.seterr(divide='ignore', invalid='ignore')\n",
    "area_per_population = np.divide(np.array(sqkm), np.array(population)).tolist()\n",
    "for i in range(len(area_per_population)):\n",
    "    if area_per_population[i]==float('inf'): area_per_population[i] = 0.0001\n",
    "color = np.arange(len(LGA)).tolist()\n",
    "\n",
    "colorlist = {LGA[i]:color[i] for i in range(len(LGA))}\n",
    "# for legend, c in color.items():\n",
    "#     plt.scatter([],[],c=c,s=100,label=legend)\n",
    "\n",
    "plt.style.use('seaborn')\n",
    "# for legend, c in colorlist.items():\n",
    "#     plt.scatter(area_per_population, median_income, s=150, c=c, cmap='flag', label=legend)\n",
    "plt.scatter(area_per_population, median_income, s=150, c=np.arange(len(LGA)), cmap='flag')\n",
    "plt.xscale('log')\n",
    "plt.yscale('log')\n",
    "plt.xlabel('square per population')\n",
    "plt.ylabel('median income')\n",
    "plt.title('LGAs Scatter Chart')\n",
    "plt.tight_layout()\n",
    "\n",
    "plt.legend(bbox_to_anchor=(1, 1))\n",
    "plt.show()"
   ],
   "metadata": {
    "collapsed": false,
    "pycharm": {
     "name": "#%%\n"
    }
   }
  },
  {
   "cell_type": "code",
   "execution_count": 277,
   "outputs": [
    {
     "data": {
      "text/plain": "<Figure size 576x396 with 0 Axes>"
     },
     "metadata": {},
     "output_type": "display_data"
    }
   ],
   "source": [
    "plt.savefig(\"z5342276-Q7.png\")"
   ],
   "metadata": {
    "collapsed": false,
    "pycharm": {
     "name": "#%%\n"
    }
   }
  },
  {
   "cell_type": "code",
   "execution_count": 303,
   "outputs": [
    {
     "data": {
      "text/plain": "<Figure size 576x396 with 1 Axes>",
      "image/png": "[encoded data removed]"
     },
     "metadata": {},
     "output_type": "display_data"
    }
   ],
   "source": [
    "suburbsDF = pd.read_csv('suburbs.csv')\n",
    "df8 = suburbsDF.copy(True)\n",
    "df8 = df8[df8['state'] == 'NSW']\n",
    "lng = df8['lng']\n",
    "lat = df8['lat']\n",
    "\n",
    "plt.hist2d(lng, lat, weights=df8['sqkm'], bins=500)\n",
    "plt.xlabel('longitude')\n",
    "plt.ylabel('latitude')\n",
    "plt.clim(0, 1)\n",
    "df8 = df8[['suburb', 'lng', 'lat']]\n",
    "df_8 = df3[df3['start'].isin(df8['suburb']) & df3['end'].isin(df8['suburb'])]\n",
    "df_8 = df_8[['transport_name', 'start', 'end']]\n",
    "df_8 = df_8.rename(columns={'start': 'suburb'})\n",
    "df_8 = pd.merge(df_8, df8, on='suburb').rename(columns={'suburb': 'start'})\n",
    "df_8 = df_8.rename(columns={'end': 'suburb'})\n",
    "df_8 = pd.merge(df_8, df8, on='suburb').rename(columns={'suburb': 'end'})\n",
    "df8 = df_8[df_8['transport_name'] != 'Bus'].reset_index()\n",
    "df8 = df8[['transport_name', 'lng_x', 'lng_y', 'lat_x', 'lat_y']]\n",
    "\n",
    "z = df8.values.tolist()\n",
    "for i in range(len(z)):\n",
    "    z[i] = [z[i][0], [z[i][1], z[i][2]], [z[i][3], z[i][4]]]\n",
    "c = {'Ferry': 'g', 'Light Rail': 'r', 'Train': 'y', 'Metro': 'b'}\n",
    "for i in range(len(z)):\n",
    "    plt.plot(z[i][1], z[i][2], color=c[z[i][0]], linewidth=0.3)\n",
    "for legend, c in c.items():\n",
    "    plt.scatter([], [], label=legend, c=c, s=150)\n",
    "plt.legend(bbox_to_anchor=(1, 1))\n",
    "plt.title('z5342276_q8.png')\n",
    "plt.show()"
   ],
   "metadata": {
    "collapsed": false,
    "pycharm": {
     "name": "#%%\n"
    }
   }
  },
  {
   "cell_type": "code",
   "execution_count": 136,
   "outputs": [
    {
     "ename": "SyntaxError",
     "evalue": "invalid syntax (164335470.py, line 2)",
     "output_type": "error",
     "traceback": [
      "\u001B[0;36m  File \u001B[0;32m\"/var/folders/lr/ckvh9k1s7pz3_hm0495z7m_w0000gn/T/ipykernel_74377/164335470.py\"\u001B[0;36m, line \u001B[0;32m2\u001B[0m\n\u001B[0;31m    b=[x[0],[x[1],x[2]],[x[3],x[4]]] for x in a\u001B[0m\n\u001B[0m                                     ^\u001B[0m\n\u001B[0;31mSyntaxError\u001B[0m\u001B[0;31m:\u001B[0m invalid syntax\n"
     ]
    }
   ],
   "source": [],
   "metadata": {
    "collapsed": false,
    "pycharm": {
     "name": "#%%\n"
    }
   }
  },
  {
   "cell_type": "code",
   "execution_count": null,
   "outputs": [],
   "source": [],
   "metadata": {
    "collapsed": false,
    "pycharm": {
     "name": "#%%\n"
    }
   }
  }
 ],
 "metadata": {
  "kernelspec": {
   "display_name": "Python 3",
   "language": "python",
   "name": "python3"
  },
  "language_info": {
   "codemirror_mode": {
    "name": "ipython",
    "version": 2
   },
   "file_extension": ".py",
   "mimetype": "text/x-python",
   "name": "python",
   "nbconvert_exporter": "python",
   "pygments_lexer": "ipython2",
   "version": "2.7.6"
  }
 },
 "nbformat": 4,
 "nbformat_minor": 0
}